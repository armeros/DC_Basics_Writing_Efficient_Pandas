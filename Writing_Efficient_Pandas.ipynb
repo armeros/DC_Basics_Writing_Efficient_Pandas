{
  "nbformat": 4,
  "nbformat_minor": 0,
  "metadata": {
    "colab": {
      "name": "Writing_Efficient_Pandas",
      "provenance": []
    },
    "kernelspec": {
      "name": "python3",
      "display_name": "Python 3"
    },
    "language_info": {
      "name": "python"
    }
  },
  "cells": [
    {
      "cell_type": "code",
      "metadata": {
        "colab": {
          "base_uri": "https://localhost:8080/"
        },
        "id": "1LlYabtlWlZp",
        "outputId": "486d2464-de0e-48c2-f01e-7ddabddfe19f"
      },
      "source": [
        "import pandas as pd\n",
        "import time\n",
        "poker_hands = pd.read_csv(\"poker_hand.csv\")\n",
        "# Define the range of rows to select: row_nums\n",
        "row_nums = range(0, 1000)\n",
        "\n",
        "# Select the rows using .loc[] and row_nums and record the time before and after\n",
        "loc_start_time = time.time()\n",
        "rows = poker_hands.loc[row_nums]\n",
        "loc_end_time = time.time()\n",
        "\n",
        "# Print the time it took to select the rows using .loc\n",
        "print(\"Time using .loc[]: {} sec\".format(loc_end_time - loc_start_time))\n",
        "\n",
        "# Select the rows using .iloc[] and row_nums and record the time before and after\n",
        "iloc_start_time = time.time()\n",
        "rows = poker_hands.iloc[row_nums]\n",
        "iloc_end_time = time.time()\n",
        "\n",
        "# Print the time it took to select the rows using .iloc\n",
        "print(\"Time using .iloc[]: {} sec\".format(iloc_end_time-iloc_start_time))"
      ],
      "execution_count": null,
      "outputs": [
        {
          "output_type": "stream",
          "text": [
            "Time using .loc[]: 0.0008392333984375 sec\n",
            "Time using .iloc[]: 0.0014424324035644531 sec\n"
          ],
          "name": "stdout"
        }
      ]
    },
    {
      "cell_type": "code",
      "metadata": {
        "colab": {
          "base_uri": "https://localhost:8080/"
        },
        "id": "1pIXq2PoXKfu",
        "outputId": "85d7258e-baa0-43da-df3f-d9b0f23514c3"
      },
      "source": [
        "import pandas as pd\n",
        "import time\n",
        "import numpy as np\n",
        "poker_hands = pd.read_csv(\"poker_hand.csv\")\n",
        "\n",
        "# Extract number of rows in dataset\n",
        "N=poker_hands.shape[0]\n",
        "\n",
        "# Select and time the selection of the 75% of the dataset's rows\n",
        "rand_start_time = time.time()\n",
        "poker_hands.iloc[np.random.randint(low=0, high=N, size=int(0.75 * N))]\n",
        "print(\"Time using Numpy: {} sec\".format(time.time() - rand_start_time))\n",
        "\n",
        "# Select and time the selection of the 75% of the dataset's rows using sample()\n",
        "samp_start_time = time.time()\n",
        "poker_hands.sample(int(0.75 * N), axis=0, replace = True)\n",
        "print(\"Time using .sample: {} sec\".format(time.time() - samp_start_time))"
      ],
      "execution_count": null,
      "outputs": [
        {
          "output_type": "stream",
          "text": [
            "Time using Numpy: 0.0059661865234375 sec\n",
            "Time using .sample: 0.0023462772369384766 sec\n"
          ],
          "name": "stdout"
        }
      ]
    },
    {
      "cell_type": "code",
      "metadata": {
        "colab": {
          "base_uri": "https://localhost:8080/"
        },
        "id": "HIhmbjkRXT84",
        "outputId": "8cd6855c-beb4-4182-eaf5-7280059c6398"
      },
      "source": [
        "# Extract number of columns in dataset\n",
        "import pandas as pd\n",
        "import time\n",
        "import numpy as np\n",
        "poker_hands = pd.read_csv(\"poker_hand.csv\")\n",
        "D=poker_hands.shape[1]\n",
        "\n",
        "# Select and time the selection of 4 of the dataset's columns using NumPy\n",
        "np_start_time = time.time()\n",
        "poker_hands.iloc[:,np.random.randint(low=0, high=D, size=4)]\n",
        "print(\"Time using NymPy's random.randint(): {} sec\".format(time.time() - np_start_time))\n",
        "\n",
        "# Select and time the selection of 4 of the dataset's columns using pandas\n",
        "pd_start_time = time.time()\n",
        "poker_hands.sample(4, axis=1)\n",
        "print(\"Time using panda's .sample(): {} sec\".format(time.time() - pd_start_time))\n",
        "\n"
      ],
      "execution_count": null,
      "outputs": [
        {
          "output_type": "stream",
          "text": [
            "Time using NymPy's random.randint(): 0.0026667118072509766 sec\n",
            "Time using panda's .sample(): 0.0010135173797607422 sec\n"
          ],
          "name": "stdout"
        }
      ]
    },
    {
      "cell_type": "code",
      "metadata": {
        "colab": {
          "base_uri": "https://localhost:8080/",
          "height": 196
        },
        "id": "8s-gz6oqh4dy",
        "outputId": "c94c2e4a-87d2-4db3-8b29-73461c98c7a8"
      },
      "source": [
        "# Replace\n",
        "\n",
        "import pandas as pd\n",
        "import time\n",
        "import numpy as np\n",
        "poker_hands = pd.read_csv(\"poker_hand.csv\")\n",
        "\n",
        "# เตรียมข้อมูลให้เหมือนโจทย์\n",
        "\n",
        "replacement = [(0, 'Nothing in hand'), (1, 'One pair'), (2, 'Two pairs'), (3, 'Three of a kind'), (4, 'Straight'), (5, 'Flush'), (6, 'Full house'), (7, 'Four of a kind'), (8, 'Straight flush'), (9, 'Royal flush')]\n",
        "poker_hands[\"Explanation\"] = poker_hands[\"Class\"]\n",
        "\n",
        "# ใช้ np.array(replacement)[:, 0] ไม่ได้ เพราะตัวเลขกลายเป็น string ไม่รู้ทำไม แต่ช่างเถอะ เขียนเอาแบบนี้เร็วกว่า\n",
        "poker_hands[\"Explanation\"].replace([0, 1, 2, 3, 4, 5, 6, 7, 8, 9], np.array(replacement)[:, 1], inplace=True) \n",
        "\n",
        "# Replace Class 1 to -2 \n",
        "poker_hands['Class'].replace(1, -2, inplace=True)\n",
        "# Replace Class 2 to -3\n",
        "poker_hands[\"Class\"].replace(2, -3, inplace=True)\n",
        "\n",
        "display(poker_hands[['Class', 'Explanation']][poker_hands[\"Class\"]==-3].head(2))\n",
        "display(poker_hands[['Class', 'Explanation']][poker_hands[\"Class\"]==-2].head(2))"
      ],
      "execution_count": null,
      "outputs": [
        {
          "output_type": "display_data",
          "data": {
            "text/html": [
              "<div>\n",
              "<style scoped>\n",
              "    .dataframe tbody tr th:only-of-type {\n",
              "        vertical-align: middle;\n",
              "    }\n",
              "\n",
              "    .dataframe tbody tr th {\n",
              "        vertical-align: top;\n",
              "    }\n",
              "\n",
              "    .dataframe thead th {\n",
              "        text-align: right;\n",
              "    }\n",
              "</style>\n",
              "<table border=\"1\" class=\"dataframe\">\n",
              "  <thead>\n",
              "    <tr style=\"text-align: right;\">\n",
              "      <th></th>\n",
              "      <th>Class</th>\n",
              "      <th>Explanation</th>\n",
              "    </tr>\n",
              "  </thead>\n",
              "  <tbody>\n",
              "    <tr>\n",
              "      <th>59</th>\n",
              "      <td>-3</td>\n",
              "      <td>Two pairs</td>\n",
              "    </tr>\n",
              "    <tr>\n",
              "      <th>75</th>\n",
              "      <td>-3</td>\n",
              "      <td>Two pairs</td>\n",
              "    </tr>\n",
              "  </tbody>\n",
              "</table>\n",
              "</div>"
            ],
            "text/plain": [
              "    Class Explanation\n",
              "59     -3   Two pairs\n",
              "75     -3   Two pairs"
            ]
          },
          "metadata": {
            "tags": []
          }
        },
        {
          "output_type": "display_data",
          "data": {
            "text/html": [
              "<div>\n",
              "<style scoped>\n",
              "    .dataframe tbody tr th:only-of-type {\n",
              "        vertical-align: middle;\n",
              "    }\n",
              "\n",
              "    .dataframe tbody tr th {\n",
              "        vertical-align: top;\n",
              "    }\n",
              "\n",
              "    .dataframe thead th {\n",
              "        text-align: right;\n",
              "    }\n",
              "</style>\n",
              "<table border=\"1\" class=\"dataframe\">\n",
              "  <thead>\n",
              "    <tr style=\"text-align: right;\">\n",
              "      <th></th>\n",
              "      <th>Class</th>\n",
              "      <th>Explanation</th>\n",
              "    </tr>\n",
              "  </thead>\n",
              "  <tbody>\n",
              "    <tr>\n",
              "      <th>10</th>\n",
              "      <td>-2</td>\n",
              "      <td>One pair</td>\n",
              "    </tr>\n",
              "    <tr>\n",
              "      <th>14</th>\n",
              "      <td>-2</td>\n",
              "      <td>One pair</td>\n",
              "    </tr>\n",
              "  </tbody>\n",
              "</table>\n",
              "</div>"
            ],
            "text/plain": [
              "    Class Explanation\n",
              "10     -2    One pair\n",
              "14     -2    One pair"
            ]
          },
          "metadata": {
            "tags": []
          }
        }
      ]
    },
    {
      "cell_type": "code",
      "metadata": {
        "colab": {
          "base_uri": "https://localhost:8080/"
        },
        "id": "2c_JGQ_xh8zu",
        "outputId": "f633cb45-b0d2-4548-882d-a93f9dd21c1c"
      },
      "source": [
        "import pandas as pd\n",
        "names = pd.read_csv(\"Popular_Baby_Names.csv\")\n",
        "\n",
        "start_time = time.time()\n",
        "\n",
        "# Replace all the entries that has 'FEMALE' as a gender with 'GIRL'\n",
        "names['Gender'].loc[names['Gender'] == \"FEMALE\"] = 'GIRL'\n",
        "\n",
        "print(\"Time using .loc[]: {} sec\".format(time.time() - start_time))\n",
        "\n",
        "start_time = time.time()\n",
        "\n",
        "# Replace all the entries that has 'FEMALE' as a gender with 'GIRL'\n",
        "names['Gender'].replace(\"FEMALE\", \"GIRL\", inplace=True)\n",
        "\n",
        "print(\"Time using .replace(): {} sec\".format(time.time() - start_time))"
      ],
      "execution_count": null,
      "outputs": [
        {
          "output_type": "stream",
          "text": [
            "Time using .loc[]: 0.0033712387084960938 sec\n",
            "Time using .replace(): 0.0009434223175048828 sec\n"
          ],
          "name": "stdout"
        },
        {
          "output_type": "stream",
          "text": [
            "/usr/local/lib/python3.7/dist-packages/pandas/core/indexing.py:670: SettingWithCopyWarning: \n",
            "A value is trying to be set on a copy of a slice from a DataFrame\n",
            "\n",
            "See the caveats in the documentation: https://pandas.pydata.org/pandas-docs/stable/user_guide/indexing.html#returning-a-view-versus-a-copy\n",
            "  iloc._setitem_with_indexer(indexer, value)\n"
          ],
          "name": "stderr"
        }
      ]
    },
    {
      "cell_type": "code",
      "metadata": {
        "colab": {
          "base_uri": "https://localhost:8080/"
        },
        "id": "d8KG-ZrgViBn",
        "outputId": "bdab454d-6bdc-473b-c967-60a91a375eb5"
      },
      "source": [
        "# Multiple Replace  \n",
        "import pandas as pd\n",
        "import time\n",
        "names = pd.read_csv(\"Popular_Baby_Names.csv\")\n",
        "\n",
        "start_time = time.time()\n",
        "\n",
        "# Replace all non-Hispanic ethnicities with 'NON HISPANIC' using .loc locator\n",
        "names['Ethnicity'].loc[(names[\"Ethnicity\"]==\"BLACK NON HISP\") | \n",
        "                       (names[\"Ethnicity\"] == \"BLACK NON HISPANIC\") | \n",
        "                       (names[\"Ethnicity\"] == \"WHITE NON HISP\") | \n",
        "                       (names[\"Ethnicity\"] == \"WHITE NON HISPANIC\")] = \"NON HISPANIC\"\n",
        "\n",
        "print(\"Time using .loc[]: {} sec\".format(time.time() - start_time))\n",
        "\n",
        "start_time = time.time()\n",
        "\n",
        "# Replace all non-Hispanic ethnicities with 'NON HISPANIC'\n",
        "names['Ethnicity'].replace(['BLACK NON HISP', 'BLACK NON HISPANIC', 'WHITE NON HISP' , 'WHITE NON HISPANIC'], 'NON HISPANIC', inplace=True)\n",
        "\n",
        "print(\"Time using .replace(): {} sec\".format(time.time() - start_time))\n",
        "\n",
        "start_time = time.time()\n",
        "\n",
        "# Replace ethnicities as instructed\n",
        "names['Ethnicity'].replace([\"ASIAN AND PACI\",\"BLACK NON HISP\", \"WHITE NON HISP\"], [\"ASIAN AND PACIFIC ISLANDER\",\"BLACK NON HISPANIC\", \"WHITE NON HISPANIC\"], inplace=True)\n",
        "\n",
        "print(\"Time using .replace(): {} sec\".format(time.time() - start_time))\n"
      ],
      "execution_count": null,
      "outputs": [
        {
          "output_type": "stream",
          "text": [
            "Time using .loc[]: 0.006046772003173828 sec\n",
            "Time using .replace(): 0.0025064945220947266 sec\n",
            "Time using .replace(): 0.004654407501220703 sec\n"
          ],
          "name": "stdout"
        },
        {
          "output_type": "stream",
          "text": [
            "/usr/local/lib/python3.7/dist-packages/pandas/core/indexing.py:670: SettingWithCopyWarning: \n",
            "A value is trying to be set on a copy of a slice from a DataFrame\n",
            "\n",
            "See the caveats in the documentation: https://pandas.pydata.org/pandas-docs/stable/user_guide/indexing.html#returning-a-view-versus-a-copy\n",
            "  iloc._setitem_with_indexer(indexer, value)\n"
          ],
          "name": "stderr"
        }
      ]
    },
    {
      "cell_type": "code",
      "metadata": {
        "colab": {
          "base_uri": "https://localhost:8080/"
        },
        "id": "f-sFkGWrhAyn",
        "outputId": "bd6aab7b-ef1a-467a-cbc5-645abe547704"
      },
      "source": [
        "# Replace using Dict\n",
        "\n",
        "import pandas as pd\n",
        "import time\n",
        "import numpy as np\n",
        "poker_hands = pd.read_csv(\"poker_hand.csv\")\n",
        "\n",
        "# เตรียมข้อมูลให้เหมือนโจทย์\n",
        "\n",
        "replacement = [(0, 'Nothing in hand'), (1, 'One pair'), (2, 'Two pairs'), (3, 'Three of a kind'), (4, 'Straight'), (5, 'Flush'), (6, 'Full house'), (7, 'Four of a kind'), (8, 'Straight flush'), (9, 'Royal flush')]\n",
        "poker_hands[\"Explanation\"] = poker_hands[\"Class\"]\n",
        "\n",
        "# ใช้ np.array(replacement)[:, 0] ไม่ได้ เพราะตัวเลขกลายเป็น string ไม่รู้ทำไม แต่ช่างเถอะ เขียนเอาแบบนี้เร็วกว่า\n",
        "poker_hands[\"Explanation\"].replace([0, 1, 2, 3, 4, 5, 6, 7, 8, 9], np.array(replacement)[:, 1], inplace=True) \n",
        "\n",
        "# Replace Royal flush or Straight flush to Flush\n",
        "poker_hands.replace({\"Royal flush\":\"Flush\", \"Straight flush\":\"Flush\"}, inplace=True)\n",
        "print(poker_hands['Explanation'].head())"
      ],
      "execution_count": null,
      "outputs": [
        {
          "output_type": "stream",
          "text": [
            "0    Flush\n",
            "1    Flush\n",
            "2    Flush\n",
            "3    Flush\n",
            "4    Flush\n",
            "Name: Explanation, dtype: object\n"
          ],
          "name": "stdout"
        }
      ]
    },
    {
      "cell_type": "code",
      "metadata": {
        "colab": {
          "base_uri": "https://localhost:8080/"
        },
        "id": "a8BsVyLUViEy",
        "outputId": "679c6ff8-3f0a-46e4-a3c0-72552071c586"
      },
      "source": [
        "import pandas as pd\n",
        "names = pd.read_csv(\"Popular_Baby_Names.csv\")\n",
        "\n",
        "# Replace the number rank by a string\n",
        "names['Rank'].replace({1:\"FIRST\", 2:\"SECOND\", 3:\"THIRD\"}, inplace=True)\n",
        "print(names.head())\n",
        "\n",
        "# Replace the rank of the first three ranked names to 'MEDAL'\n",
        "names.replace({\"Rank\": {1:\"MEDAL\", 2:\"MEDAL\", 3:\"MEDAL\"}}, inplace=True)\n",
        "\n",
        "# Replace the rank of the 4th and 5th ranked names to 'ALMOST MEDAL'\n",
        "names.replace({\"Rank\": {4:\"ALMOST MEDAL\", 5:\"ALMOST MEDAL\"}}, inplace=True)\n",
        "print(names.head())"
      ],
      "execution_count": null,
      "outputs": [
        {
          "output_type": "stream",
          "text": [
            "   Year of Birth  Gender  ... Count    Rank\n",
            "0           2011  FEMALE  ...   119   FIRST\n",
            "1           2011  FEMALE  ...   106  SECOND\n",
            "2           2011  FEMALE  ...    93   THIRD\n",
            "3           2011  FEMALE  ...    89       4\n",
            "4           2011  FEMALE  ...    75       5\n",
            "\n",
            "[5 rows x 6 columns]\n",
            "   Year of Birth  Gender  ... Count          Rank\n",
            "0           2011  FEMALE  ...   119         FIRST\n",
            "1           2011  FEMALE  ...   106        SECOND\n",
            "2           2011  FEMALE  ...    93         THIRD\n",
            "3           2011  FEMALE  ...    89  ALMOST MEDAL\n",
            "4           2011  FEMALE  ...    75  ALMOST MEDAL\n",
            "\n",
            "[5 rows x 6 columns]\n"
          ],
          "name": "stdout"
        }
      ]
    },
    {
      "cell_type": "code",
      "metadata": {
        "colab": {
          "base_uri": "https://localhost:8080/"
        },
        "id": "XAI3S7y9Wi3g",
        "outputId": "7dbbf80a-8b1c-4121-f3b8-8f2694d3078d"
      },
      "source": [
        "# iterrows อีกแล้ว วิธีนี้ ไม่ดี ไม่แนะนำ ถ้าเลี่ยงได้เลี่ยง อย่างน้อย itertuples เร็วกว่า\n",
        "\n",
        "import pandas as pd\n",
        "import time\n",
        "import numpy as np\n",
        "poker_hands = pd.read_csv(\"poker_hand.csv\")\n",
        "\n",
        "# Create a generator over the rows\n",
        "generator = poker_hands.iterrows()\n",
        "\n",
        "# Access the elements of the 2nd row\n",
        "first_element = next(generator)\n",
        "second_element = next(generator)\n",
        "print(first_element, second_element)"
      ],
      "execution_count": null,
      "outputs": [
        {
          "output_type": "stream",
          "text": [
            "(0, S1        1\n",
            "R1       10\n",
            "S2        1\n",
            "R2       11\n",
            "S3        1\n",
            "R3       13\n",
            "S4        1\n",
            "R4       12\n",
            "S5        1\n",
            "R5        1\n",
            "Class     9\n",
            "Name: 0, dtype: int64) (1, S1        2\n",
            "R1       11\n",
            "S2        2\n",
            "R2       13\n",
            "S3        2\n",
            "R3       10\n",
            "S4        2\n",
            "R4       12\n",
            "S5        2\n",
            "R5        1\n",
            "Class     9\n",
            "Name: 1, dtype: int64)\n"
          ],
          "name": "stdout"
        }
      ]
    },
    {
      "cell_type": "code",
      "metadata": {
        "id": "i2oqlQBEZ3Eu"
      },
      "source": [
        "# iterrows อีกแล้ว วิธีนี้ ไม่ดี ไม่แนะนำ ถ้าเลี่ยงได้เลี่ยง อย่างน้อย itertuples เร็วกว่า\n",
        "\n",
        "import pandas as pd\n",
        "poker_hands = pd.read_csv(\"poker_hand.csv\")\n",
        "data_generator = poker_hands.iterrows()\n",
        "\n",
        "for index, values in data_generator:\n",
        "  \t# Check if index is odd\n",
        "    if index%2 != 0:\n",
        "      \t# Sum the ranks of all the cards\n",
        "        hand_sum = sum([values[1], values[3], values[5], values[7], values[9]])\n"
      ],
      "execution_count": null,
      "outputs": []
    },
    {
      "cell_type": "code",
      "metadata": {
        "colab": {
          "base_uri": "https://localhost:8080/"
        },
        "id": "3-f1P6YtayKu",
        "outputId": "031129e5-b9ec-4bc2-ae8c-e5893c2394a9"
      },
      "source": [
        "# Apply ใช้ดีกว่า iterrows\n",
        "import pandas as pd\n",
        "poker_hands = pd.read_csv(\"poker_hand.csv\")\n",
        "\n",
        "print(poker_hands.head(), \"\\n\")\n",
        "\n",
        "# Define the lambda transformation\n",
        "get_square = lambda x: x**2\n",
        "\n",
        "# Apply the transformation\n",
        "data_sum = poker_hands.apply(get_square)\n",
        "print(data_sum.head())"
      ],
      "execution_count": null,
      "outputs": [
        {
          "output_type": "stream",
          "text": [
            "   S1  R1  S2  R2  S3  R3  S4  R4  S5  R5  Class\n",
            "0   1  10   1  11   1  13   1  12   1   1      9\n",
            "1   2  11   2  13   2  10   2  12   2   1      9\n",
            "2   3  12   3  11   3  13   3  10   3   1      9\n",
            "3   4  10   4  11   4   1   4  13   4  12      9\n",
            "4   4   1   4  13   4  12   4  11   4  10      9 \n",
            "\n",
            "   S1   R1  S2   R2  S3   R3  S4   R4  S5   R5  Class\n",
            "0   1  100   1  121   1  169   1  144   1    1     81\n",
            "1   4  121   4  169   4  100   4  144   4    1     81\n",
            "2   9  144   9  121   9  169   9  100   9    1     81\n",
            "3  16  100  16  121  16    1  16  169  16  144     81\n",
            "4  16    1  16  169  16  144  16  121  16  100     81\n"
          ],
          "name": "stdout"
        }
      ]
    },
    {
      "cell_type": "code",
      "metadata": {
        "colab": {
          "base_uri": "https://localhost:8080/"
        },
        "id": "xGMtXLV4cWPL",
        "outputId": "bb44bdbf-d2ee-4e7a-9f39-8c2832b275ce"
      },
      "source": [
        "import pandas as pd\n",
        "import numpy as np\n",
        "poker_hands = pd.read_csv(\"poker_hand.csv\")\n",
        "poker_hands = poker_hands[poker_hands.index < 10000]\n",
        "\n",
        "# Define the lambda transformation\n",
        "get_variance = lambda x: np.var(x)\n",
        "\n",
        "# Apply the transformation to each row\n",
        "data_tr = poker_hands[['R1', 'R2', 'R3', 'R4', 'R5']].apply(get_variance, axis=1)\n",
        "print(data_tr.head())\n",
        "\n",
        "# Apply the transformation to the specified columns\n",
        "data_tr = poker_hands[['R1', 'R2', 'R3', 'R4', 'R5']].apply(get_variance, axis=0)\n",
        "print(data_tr.head())\n",
        "\n",
        "\n",
        "\n"
      ],
      "execution_count": null,
      "outputs": [
        {
          "output_type": "stream",
          "text": [
            "0    18.64\n",
            "1    18.64\n",
            "2    18.64\n",
            "3    18.64\n",
            "4    18.64\n",
            "dtype: float64\n",
            "R1    14.330572\n",
            "R2    14.175058\n",
            "R3    13.928827\n",
            "R4    13.943723\n",
            "R5    13.986058\n",
            "dtype: float64\n"
          ],
          "name": "stdout"
        }
      ]
    },
    {
      "cell_type": "code",
      "metadata": {
        "colab": {
          "base_uri": "https://localhost:8080/"
        },
        "id": "hABwYrB-cxhI",
        "outputId": "79557de1-ac1d-4f54-edbe-5ce2234aca8e"
      },
      "source": [
        "# Calculate the mean rank in each hand\n",
        "import pandas as pd\n",
        "import numpy as np\n",
        "poker_hands = pd.read_csv(\"poker_hand.csv\")\n",
        "\n",
        "\n",
        "row_start_time = time.time()\n",
        "mean_r = poker_hands[['R1', 'R2', 'R3', 'R4', 'R5']].mean(axis=1)\n",
        "print(\"Time using pandas vectorization for rows: {} sec\".format(time.time() - row_start_time))\n",
        "print(mean_r.head())\n",
        "\n",
        "# Calculate the mean rank of each of the 5 card in all hands\n",
        "col_start_time = time.time()\n",
        "mean_c = poker_hands[['R1', 'R2', 'R3', 'R4', 'R5']].mean(axis=0)\n",
        "print(\"Time using pandas vectorization for columns: {} sec\".format(time.time() - col_start_time))\n",
        "print(mean_c.head())\n"
      ],
      "execution_count": null,
      "outputs": [
        {
          "output_type": "stream",
          "text": [
            "Time using pandas vectorization for rows: 0.0019118785858154297 sec\n",
            "0    9.4\n",
            "1    9.4\n",
            "2    9.4\n",
            "3    9.4\n",
            "4    9.4\n",
            "dtype: float64\n",
            "Time using pandas vectorization for columns: 0.0019192695617675781 sec\n",
            "R1    6.995242\n",
            "R2    7.014194\n",
            "R3    7.014154\n",
            "R4    6.942463\n",
            "R5    6.962735\n",
            "dtype: float64\n"
          ],
          "name": "stdout"
        }
      ]
    },
    {
      "cell_type": "code",
      "metadata": {
        "colab": {
          "base_uri": "https://localhost:8080/"
        },
        "id": "v6J_JtdRdX8b",
        "outputId": "3f02eed1-f161-4010-b538-7c6178c2944a"
      },
      "source": [
        "import pandas as pd\n",
        "import numpy as np\n",
        "poker_hands = pd.read_csv(\"poker_hand.csv\")\n",
        "\n",
        "# Calculate the variance of the ranks of all the cards in each hand using vectorization with pandas.\n",
        "start_time = time.time()\n",
        "poker_var = poker_hands[[\"R1\", \"R2\", \"R3\", \"R4\", \"R5\"]].var(axis=1)\n",
        "print(\"Time using pandas vectorization: {} sec\".format(time.time() - start_time))\n",
        "print(poker_var.head())\n",
        "\n",
        "# Calculate the variance of the ranks of all the cards in each hand using vectorization with NumPy.\n",
        "start_time = time.time()\n",
        "poker_var = poker_hands[[\"R1\", \"R2\", \"R3\", \"R4\", \"R5\"]].values.var(axis=1, ddof=1)\n",
        "print(\"Time using NumPy vectorization: {} sec\".format(time.time() - start_time))\n",
        "print(poker_var[0:5])"
      ],
      "execution_count": null,
      "outputs": [
        {
          "output_type": "stream",
          "text": [
            "Time using pandas vectorization: 0.0020606517791748047 sec\n",
            "0    23.3\n",
            "1    23.3\n",
            "2    23.3\n",
            "3    23.3\n",
            "4    23.3\n",
            "dtype: float64\n",
            "Time using NumPy vectorization: 0.002048015594482422 sec\n",
            "[23.3 23.3 23.3 23.3 23.3]\n"
          ],
          "name": "stdout"
        }
      ]
    },
    {
      "cell_type": "code",
      "metadata": {
        "colab": {
          "base_uri": "https://localhost:8080/"
        },
        "id": "ZhDzm-TQjSFd",
        "outputId": "0ffe6fb2-8b9f-4f70-a32a-e8d4cad18bd1"
      },
      "source": [
        "### Groupby\n",
        "import pandas as pd\n",
        "import numpy as np\n",
        "\n",
        "restaurant_data = pd.read_csv(\"restaurant_data.csv\")\n",
        "\n",
        "# Define the min-max transformation\n",
        "min_max_tr = lambda x: (x - x.min()) / (x.max() - x.min())\n",
        "\n",
        "# Group the data according to the time\n",
        "restaurant_grouped = restaurant_data.groupby(\"time\")\n",
        "\n",
        "# Apply the transformation\n",
        "restaurant_min_max_group = restaurant_grouped.transform(min_max_tr)\n",
        "print(restaurant_min_max_group.head(), \"\\n\")\n",
        "\n",
        "# Define the exponential transformation\n",
        "exp_tr = lambda x: np.exp(-x.mean()*x) * x.mean()\n",
        "\n",
        "# Group the data according to the time\n",
        "restaurant_grouped = restaurant_data.groupby(\"time\")\n",
        "\n",
        "# Apply the transformation\n",
        "restaurant_exp_group = restaurant_grouped['tip'].transform(exp_tr)\n",
        "print(restaurant_exp_group.head())\n",
        "\n"
      ],
      "execution_count": null,
      "outputs": [
        {
          "output_type": "stream",
          "text": [
            "   total_bill       tip  size\n",
            "0    0.291579  0.001111   0.2\n",
            "1    0.152283  0.073333   0.4\n",
            "2    0.375786  0.277778   0.4\n",
            "3    0.431713  0.256667   0.2\n",
            "4    0.450775  0.290000   0.6 \n",
            "\n",
            "0    0.135141\n",
            "1    0.017986\n",
            "2    0.000060\n",
            "3    0.000108\n",
            "4    0.000042\n",
            "Name: tip, dtype: float64\n"
          ],
          "name": "stdout"
        }
      ]
    },
    {
      "cell_type": "code",
      "metadata": {
        "colab": {
          "base_uri": "https://localhost:8080/",
          "height": 598
        },
        "id": "Af93GyvVzZhN",
        "outputId": "126e394d-dd55-4d83-ca09-f30b593fd00e"
      },
      "source": [
        "import pandas as pd\n",
        "import numpy as np\n",
        "poker_hands = pd.read_csv(\"poker_hand.csv\")\n",
        "poker_grouped = poker_hands.groupby(\"Class\")\n",
        "zscore = lambda x: (x - x.mean()) / x.std()\n",
        "\n",
        "# Apply the transformation\n",
        "poker_trans = poker_grouped.transform(zscore)\n",
        "display(poker_trans.head())\n",
        "\n",
        "# Groupby ใช้กับการจัดกลุ่มด้วยคอลัมน์จากตารางเดิมได้ด้วยรึ ?\n",
        "\n",
        "poker_regrouped = poker_trans.groupby(poker_hands[\"Class\"])\n",
        "print(np.round(poker_regrouped.mean(), 1))\n",
        "print(poker_regrouped.std())"
      ],
      "execution_count": null,
      "outputs": [
        {
          "output_type": "display_data",
          "data": {
            "text/html": [
              "<div>\n",
              "<style scoped>\n",
              "    .dataframe tbody tr th:only-of-type {\n",
              "        vertical-align: middle;\n",
              "    }\n",
              "\n",
              "    .dataframe tbody tr th {\n",
              "        vertical-align: top;\n",
              "    }\n",
              "\n",
              "    .dataframe thead th {\n",
              "        text-align: right;\n",
              "    }\n",
              "</style>\n",
              "<table border=\"1\" class=\"dataframe\">\n",
              "  <thead>\n",
              "    <tr style=\"text-align: right;\">\n",
              "      <th></th>\n",
              "      <th>S1</th>\n",
              "      <th>R1</th>\n",
              "      <th>S2</th>\n",
              "      <th>R2</th>\n",
              "      <th>S3</th>\n",
              "      <th>R3</th>\n",
              "      <th>S4</th>\n",
              "      <th>R4</th>\n",
              "      <th>S5</th>\n",
              "      <th>R5</th>\n",
              "    </tr>\n",
              "  </thead>\n",
              "  <tbody>\n",
              "    <tr>\n",
              "      <th>0</th>\n",
              "      <td>-1.380537</td>\n",
              "      <td>0.270364</td>\n",
              "      <td>-1.380537</td>\n",
              "      <td>-0.730297</td>\n",
              "      <td>-1.380537</td>\n",
              "      <td>0.631224</td>\n",
              "      <td>-1.380537</td>\n",
              "      <td>0.350823</td>\n",
              "      <td>-1.380537</td>\n",
              "      <td>-0.724286</td>\n",
              "    </tr>\n",
              "    <tr>\n",
              "      <th>1</th>\n",
              "      <td>-0.613572</td>\n",
              "      <td>0.495666</td>\n",
              "      <td>-0.613572</td>\n",
              "      <td>1.095445</td>\n",
              "      <td>-0.613572</td>\n",
              "      <td>0.039451</td>\n",
              "      <td>-0.613572</td>\n",
              "      <td>0.350823</td>\n",
              "      <td>-0.613572</td>\n",
              "      <td>-0.724286</td>\n",
              "    </tr>\n",
              "    <tr>\n",
              "      <th>2</th>\n",
              "      <td>0.153393</td>\n",
              "      <td>0.720969</td>\n",
              "      <td>0.153393</td>\n",
              "      <td>-0.730297</td>\n",
              "      <td>0.153393</td>\n",
              "      <td>0.631224</td>\n",
              "      <td>0.153393</td>\n",
              "      <td>-1.403293</td>\n",
              "      <td>0.153393</td>\n",
              "      <td>-0.724286</td>\n",
              "    </tr>\n",
              "    <tr>\n",
              "      <th>3</th>\n",
              "      <td>0.920358</td>\n",
              "      <td>0.270364</td>\n",
              "      <td>0.920358</td>\n",
              "      <td>-0.730297</td>\n",
              "      <td>0.920358</td>\n",
              "      <td>-1.735866</td>\n",
              "      <td>0.920358</td>\n",
              "      <td>1.227881</td>\n",
              "      <td>0.920358</td>\n",
              "      <td>1.267500</td>\n",
              "    </tr>\n",
              "    <tr>\n",
              "      <th>4</th>\n",
              "      <td>0.920358</td>\n",
              "      <td>-1.757363</td>\n",
              "      <td>0.920358</td>\n",
              "      <td>1.095445</td>\n",
              "      <td>0.920358</td>\n",
              "      <td>0.433966</td>\n",
              "      <td>0.920358</td>\n",
              "      <td>-0.526235</td>\n",
              "      <td>0.920358</td>\n",
              "      <td>0.905357</td>\n",
              "    </tr>\n",
              "  </tbody>\n",
              "</table>\n",
              "</div>"
            ],
            "text/plain": [
              "         S1        R1        S2  ...        R4        S5        R5\n",
              "0 -1.380537  0.270364 -1.380537  ...  0.350823 -1.380537 -0.724286\n",
              "1 -0.613572  0.495666 -0.613572  ...  0.350823 -0.613572 -0.724286\n",
              "2  0.153393  0.720969  0.153393  ... -1.403293  0.153393 -0.724286\n",
              "3  0.920358  0.270364  0.920358  ...  1.227881  0.920358  1.267500\n",
              "4  0.920358 -1.757363  0.920358  ... -0.526235  0.920358  0.905357\n",
              "\n",
              "[5 rows x 10 columns]"
            ]
          },
          "metadata": {
            "tags": []
          }
        },
        {
          "output_type": "stream",
          "text": [
            "        S1   R1   S2   R2   S3   R3   S4   R4   S5   R5\n",
            "Class                                                  \n",
            "0      0.0  0.0 -0.0 -0.0 -0.0 -0.0  0.0 -0.0 -0.0 -0.0\n",
            "1     -0.0 -0.0  0.0 -0.0  0.0  0.0  0.0  0.0 -0.0  0.0\n",
            "2     -0.0 -0.0 -0.0 -0.0 -0.0  0.0 -0.0  0.0  0.0  0.0\n",
            "3     -0.0  0.0  0.0 -0.0 -0.0 -0.0  0.0 -0.0  0.0 -0.0\n",
            "4      0.0 -0.0 -0.0 -0.0  0.0 -0.0 -0.0  0.0  0.0  0.0\n",
            "5     -0.0 -0.0 -0.0  0.0 -0.0  0.0 -0.0 -0.0 -0.0  0.0\n",
            "6     -0.0 -0.0 -0.0  0.0  0.0 -0.0  0.0  0.0 -0.0  0.0\n",
            "7      0.0 -0.0 -0.0  0.0 -0.0  0.0  0.0 -0.0 -0.0 -0.0\n",
            "8     -0.0  0.0 -0.0  0.0 -0.0  0.0 -0.0  0.0 -0.0 -0.0\n",
            "9      0.0 -0.0  0.0 -0.0  0.0 -0.0  0.0  0.0  0.0 -0.0\n",
            "        S1   R1   S2   R2   S3   R3   S4   R4   S5   R5\n",
            "Class                                                  \n",
            "0      1.0  1.0  1.0  1.0  1.0  1.0  1.0  1.0  1.0  1.0\n",
            "1      1.0  1.0  1.0  1.0  1.0  1.0  1.0  1.0  1.0  1.0\n",
            "2      1.0  1.0  1.0  1.0  1.0  1.0  1.0  1.0  1.0  1.0\n",
            "3      1.0  1.0  1.0  1.0  1.0  1.0  1.0  1.0  1.0  1.0\n",
            "4      1.0  1.0  1.0  1.0  1.0  1.0  1.0  1.0  1.0  1.0\n",
            "5      1.0  1.0  1.0  1.0  1.0  1.0  1.0  1.0  1.0  1.0\n",
            "6      1.0  1.0  1.0  1.0  1.0  1.0  1.0  1.0  1.0  1.0\n",
            "7      1.0  1.0  1.0  1.0  1.0  1.0  1.0  1.0  1.0  1.0\n",
            "8      1.0  1.0  1.0  1.0  1.0  1.0  1.0  1.0  1.0  1.0\n",
            "9      1.0  1.0  1.0  1.0  1.0  1.0  1.0  1.0  1.0  1.0\n"
          ],
          "name": "stdout"
        }
      ]
    },
    {
      "cell_type": "code",
      "metadata": {
        "colab": {
          "base_uri": "https://localhost:8080/",
          "height": 636
        },
        "id": "-o4hknyYzgnG",
        "outputId": "0b032467-962e-4f9e-d70d-d2d2a5e0a04f"
      },
      "source": [
        "# ดูตารางใหม่ตามกลุ่มที่จัด แบบนี้ได้ไหม ?\n",
        "\n",
        "import pandas as pd\n",
        "import numpy as np\n",
        "poker_hands = pd.read_csv(\"poker_hand.csv\")\n",
        "poker_grouped = poker_hands.groupby(\"Class\")\n",
        "same = lambda x: x\n",
        "display(poker_hands.head())\n",
        "print(\"\\n\")\n",
        "# Apply the transformation\n",
        "poker_trans = poker_grouped.transform(same)\n",
        "display(poker_trans.head())\n",
        "print(\"\\n\")\n",
        "print(\"ใช้ get_group เพื่อดึงข้อมูลเดิมตามกลุ่ม น่าจะเหมาะกว่า\")\n",
        "display(poker_grouped.get_group(9))"
      ],
      "execution_count": null,
      "outputs": [
        {
          "output_type": "display_data",
          "data": {
            "text/html": [
              "<div>\n",
              "<style scoped>\n",
              "    .dataframe tbody tr th:only-of-type {\n",
              "        vertical-align: middle;\n",
              "    }\n",
              "\n",
              "    .dataframe tbody tr th {\n",
              "        vertical-align: top;\n",
              "    }\n",
              "\n",
              "    .dataframe thead th {\n",
              "        text-align: right;\n",
              "    }\n",
              "</style>\n",
              "<table border=\"1\" class=\"dataframe\">\n",
              "  <thead>\n",
              "    <tr style=\"text-align: right;\">\n",
              "      <th></th>\n",
              "      <th>S1</th>\n",
              "      <th>R1</th>\n",
              "      <th>S2</th>\n",
              "      <th>R2</th>\n",
              "      <th>S3</th>\n",
              "      <th>R3</th>\n",
              "      <th>S4</th>\n",
              "      <th>R4</th>\n",
              "      <th>S5</th>\n",
              "      <th>R5</th>\n",
              "      <th>Class</th>\n",
              "    </tr>\n",
              "  </thead>\n",
              "  <tbody>\n",
              "    <tr>\n",
              "      <th>0</th>\n",
              "      <td>1</td>\n",
              "      <td>10</td>\n",
              "      <td>1</td>\n",
              "      <td>11</td>\n",
              "      <td>1</td>\n",
              "      <td>13</td>\n",
              "      <td>1</td>\n",
              "      <td>12</td>\n",
              "      <td>1</td>\n",
              "      <td>1</td>\n",
              "      <td>9</td>\n",
              "    </tr>\n",
              "    <tr>\n",
              "      <th>1</th>\n",
              "      <td>2</td>\n",
              "      <td>11</td>\n",
              "      <td>2</td>\n",
              "      <td>13</td>\n",
              "      <td>2</td>\n",
              "      <td>10</td>\n",
              "      <td>2</td>\n",
              "      <td>12</td>\n",
              "      <td>2</td>\n",
              "      <td>1</td>\n",
              "      <td>9</td>\n",
              "    </tr>\n",
              "    <tr>\n",
              "      <th>2</th>\n",
              "      <td>3</td>\n",
              "      <td>12</td>\n",
              "      <td>3</td>\n",
              "      <td>11</td>\n",
              "      <td>3</td>\n",
              "      <td>13</td>\n",
              "      <td>3</td>\n",
              "      <td>10</td>\n",
              "      <td>3</td>\n",
              "      <td>1</td>\n",
              "      <td>9</td>\n",
              "    </tr>\n",
              "    <tr>\n",
              "      <th>3</th>\n",
              "      <td>4</td>\n",
              "      <td>10</td>\n",
              "      <td>4</td>\n",
              "      <td>11</td>\n",
              "      <td>4</td>\n",
              "      <td>1</td>\n",
              "      <td>4</td>\n",
              "      <td>13</td>\n",
              "      <td>4</td>\n",
              "      <td>12</td>\n",
              "      <td>9</td>\n",
              "    </tr>\n",
              "    <tr>\n",
              "      <th>4</th>\n",
              "      <td>4</td>\n",
              "      <td>1</td>\n",
              "      <td>4</td>\n",
              "      <td>13</td>\n",
              "      <td>4</td>\n",
              "      <td>12</td>\n",
              "      <td>4</td>\n",
              "      <td>11</td>\n",
              "      <td>4</td>\n",
              "      <td>10</td>\n",
              "      <td>9</td>\n",
              "    </tr>\n",
              "  </tbody>\n",
              "</table>\n",
              "</div>"
            ],
            "text/plain": [
              "   S1  R1  S2  R2  S3  R3  S4  R4  S5  R5  Class\n",
              "0   1  10   1  11   1  13   1  12   1   1      9\n",
              "1   2  11   2  13   2  10   2  12   2   1      9\n",
              "2   3  12   3  11   3  13   3  10   3   1      9\n",
              "3   4  10   4  11   4   1   4  13   4  12      9\n",
              "4   4   1   4  13   4  12   4  11   4  10      9"
            ]
          },
          "metadata": {
            "tags": []
          }
        },
        {
          "output_type": "stream",
          "text": [
            "\n",
            "\n"
          ],
          "name": "stdout"
        },
        {
          "output_type": "display_data",
          "data": {
            "text/html": [
              "<div>\n",
              "<style scoped>\n",
              "    .dataframe tbody tr th:only-of-type {\n",
              "        vertical-align: middle;\n",
              "    }\n",
              "\n",
              "    .dataframe tbody tr th {\n",
              "        vertical-align: top;\n",
              "    }\n",
              "\n",
              "    .dataframe thead th {\n",
              "        text-align: right;\n",
              "    }\n",
              "</style>\n",
              "<table border=\"1\" class=\"dataframe\">\n",
              "  <thead>\n",
              "    <tr style=\"text-align: right;\">\n",
              "      <th></th>\n",
              "      <th>S1</th>\n",
              "      <th>R1</th>\n",
              "      <th>S2</th>\n",
              "      <th>R2</th>\n",
              "      <th>S3</th>\n",
              "      <th>R3</th>\n",
              "      <th>S4</th>\n",
              "      <th>R4</th>\n",
              "      <th>S5</th>\n",
              "      <th>R5</th>\n",
              "    </tr>\n",
              "  </thead>\n",
              "  <tbody>\n",
              "    <tr>\n",
              "      <th>0</th>\n",
              "      <td>1</td>\n",
              "      <td>10</td>\n",
              "      <td>1</td>\n",
              "      <td>11</td>\n",
              "      <td>1</td>\n",
              "      <td>13</td>\n",
              "      <td>1</td>\n",
              "      <td>12</td>\n",
              "      <td>1</td>\n",
              "      <td>1</td>\n",
              "    </tr>\n",
              "    <tr>\n",
              "      <th>1</th>\n",
              "      <td>2</td>\n",
              "      <td>11</td>\n",
              "      <td>2</td>\n",
              "      <td>13</td>\n",
              "      <td>2</td>\n",
              "      <td>10</td>\n",
              "      <td>2</td>\n",
              "      <td>12</td>\n",
              "      <td>2</td>\n",
              "      <td>1</td>\n",
              "    </tr>\n",
              "    <tr>\n",
              "      <th>2</th>\n",
              "      <td>3</td>\n",
              "      <td>12</td>\n",
              "      <td>3</td>\n",
              "      <td>11</td>\n",
              "      <td>3</td>\n",
              "      <td>13</td>\n",
              "      <td>3</td>\n",
              "      <td>10</td>\n",
              "      <td>3</td>\n",
              "      <td>1</td>\n",
              "    </tr>\n",
              "    <tr>\n",
              "      <th>3</th>\n",
              "      <td>4</td>\n",
              "      <td>10</td>\n",
              "      <td>4</td>\n",
              "      <td>11</td>\n",
              "      <td>4</td>\n",
              "      <td>1</td>\n",
              "      <td>4</td>\n",
              "      <td>13</td>\n",
              "      <td>4</td>\n",
              "      <td>12</td>\n",
              "    </tr>\n",
              "    <tr>\n",
              "      <th>4</th>\n",
              "      <td>4</td>\n",
              "      <td>1</td>\n",
              "      <td>4</td>\n",
              "      <td>13</td>\n",
              "      <td>4</td>\n",
              "      <td>12</td>\n",
              "      <td>4</td>\n",
              "      <td>11</td>\n",
              "      <td>4</td>\n",
              "      <td>10</td>\n",
              "    </tr>\n",
              "  </tbody>\n",
              "</table>\n",
              "</div>"
            ],
            "text/plain": [
              "   S1  R1  S2  R2  S3  R3  S4  R4  S5  R5\n",
              "0   1  10   1  11   1  13   1  12   1   1\n",
              "1   2  11   2  13   2  10   2  12   2   1\n",
              "2   3  12   3  11   3  13   3  10   3   1\n",
              "3   4  10   4  11   4   1   4  13   4  12\n",
              "4   4   1   4  13   4  12   4  11   4  10"
            ]
          },
          "metadata": {
            "tags": []
          }
        },
        {
          "output_type": "stream",
          "text": [
            "\n",
            "\n",
            "ใช้ get_group เพื่อดึงข้อมูลเดิมตามกลุ่ม น่าจะเหมาะกว่า\n"
          ],
          "name": "stdout"
        },
        {
          "output_type": "display_data",
          "data": {
            "text/html": [
              "<div>\n",
              "<style scoped>\n",
              "    .dataframe tbody tr th:only-of-type {\n",
              "        vertical-align: middle;\n",
              "    }\n",
              "\n",
              "    .dataframe tbody tr th {\n",
              "        vertical-align: top;\n",
              "    }\n",
              "\n",
              "    .dataframe thead th {\n",
              "        text-align: right;\n",
              "    }\n",
              "</style>\n",
              "<table border=\"1\" class=\"dataframe\">\n",
              "  <thead>\n",
              "    <tr style=\"text-align: right;\">\n",
              "      <th></th>\n",
              "      <th>S1</th>\n",
              "      <th>R1</th>\n",
              "      <th>S2</th>\n",
              "      <th>R2</th>\n",
              "      <th>S3</th>\n",
              "      <th>R3</th>\n",
              "      <th>S4</th>\n",
              "      <th>R4</th>\n",
              "      <th>S5</th>\n",
              "      <th>R5</th>\n",
              "      <th>Class</th>\n",
              "    </tr>\n",
              "  </thead>\n",
              "  <tbody>\n",
              "    <tr>\n",
              "      <th>0</th>\n",
              "      <td>1</td>\n",
              "      <td>10</td>\n",
              "      <td>1</td>\n",
              "      <td>11</td>\n",
              "      <td>1</td>\n",
              "      <td>13</td>\n",
              "      <td>1</td>\n",
              "      <td>12</td>\n",
              "      <td>1</td>\n",
              "      <td>1</td>\n",
              "      <td>9</td>\n",
              "    </tr>\n",
              "    <tr>\n",
              "      <th>1</th>\n",
              "      <td>2</td>\n",
              "      <td>11</td>\n",
              "      <td>2</td>\n",
              "      <td>13</td>\n",
              "      <td>2</td>\n",
              "      <td>10</td>\n",
              "      <td>2</td>\n",
              "      <td>12</td>\n",
              "      <td>2</td>\n",
              "      <td>1</td>\n",
              "      <td>9</td>\n",
              "    </tr>\n",
              "    <tr>\n",
              "      <th>2</th>\n",
              "      <td>3</td>\n",
              "      <td>12</td>\n",
              "      <td>3</td>\n",
              "      <td>11</td>\n",
              "      <td>3</td>\n",
              "      <td>13</td>\n",
              "      <td>3</td>\n",
              "      <td>10</td>\n",
              "      <td>3</td>\n",
              "      <td>1</td>\n",
              "      <td>9</td>\n",
              "    </tr>\n",
              "    <tr>\n",
              "      <th>3</th>\n",
              "      <td>4</td>\n",
              "      <td>10</td>\n",
              "      <td>4</td>\n",
              "      <td>11</td>\n",
              "      <td>4</td>\n",
              "      <td>1</td>\n",
              "      <td>4</td>\n",
              "      <td>13</td>\n",
              "      <td>4</td>\n",
              "      <td>12</td>\n",
              "      <td>9</td>\n",
              "    </tr>\n",
              "    <tr>\n",
              "      <th>4</th>\n",
              "      <td>4</td>\n",
              "      <td>1</td>\n",
              "      <td>4</td>\n",
              "      <td>13</td>\n",
              "      <td>4</td>\n",
              "      <td>12</td>\n",
              "      <td>4</td>\n",
              "      <td>11</td>\n",
              "      <td>4</td>\n",
              "      <td>10</td>\n",
              "      <td>9</td>\n",
              "    </tr>\n",
              "  </tbody>\n",
              "</table>\n",
              "</div>"
            ],
            "text/plain": [
              "   S1  R1  S2  R2  S3  R3  S4  R4  S5  R5  Class\n",
              "0   1  10   1  11   1  13   1  12   1   1      9\n",
              "1   2  11   2  13   2  10   2  12   2   1      9\n",
              "2   3  12   3  11   3  13   3  10   3   1      9\n",
              "3   4  10   4  11   4   1   4  13   4  12      9\n",
              "4   4   1   4  13   4  12   4  11   4  10      9"
            ]
          },
          "metadata": {
            "tags": []
          }
        }
      ]
    },
    {
      "cell_type": "code",
      "metadata": {
        "colab": {
          "base_uri": "https://localhost:8080/"
        },
        "id": "nzry3qZ3zsvN",
        "outputId": "8927b501-69eb-4816-e09a-9f19110f103b"
      },
      "source": [
        "# หาจำนวนข้อมูลที่หาย แยกตามกลุ่ม\n",
        "\n",
        "import pandas as pd\n",
        "import numpy as np\n",
        "restaurant_nan = pd.read_csv(\"restaurant_nan.csv\")\n",
        "\n",
        "# Group both objects according to smoke condition\n",
        "restaurant_nan_grouped = restaurant_nan.groupby(\"smoker\")\n",
        "\n",
        "# Store the number of present values (คอลัมน์ที่ค่าหาย คือ คอลัมน์ tip)\n",
        "restaurant_nan_nval = restaurant_nan_grouped['tip'].count()\n",
        "\n",
        "# Print the group-wise missing entries (คอลัมน์อื่นค่าครบ เอามาลบจึงได้เป็นค่าที่หาย)\n",
        "print(restaurant_nan_grouped['total_bill'].count() - restaurant_nan_nval, \"\\n\")\n",
        "\n",
        "print(\"ถ้าไม่ใช้ groupby ทำได้อีกหลายวิธี อาทิ\")\n",
        "print(\"จำนวนค่า tip ที่หายไปเมื่อ smoker = Yes คือ \", restaurant_nan[restaurant_nan[\"smoker\"]==\"Yes\"][\"tip\"].isnull().sum())\n",
        "print(\"จำนวนค่า tip ที่หายไปเมื่อ smoker = No คือ \", restaurant_nan[restaurant_nan[\"smoker\"]==\"No\"][\"tip\"].isnull().sum())\n",
        "\n"
      ],
      "execution_count": null,
      "outputs": [
        {
          "output_type": "stream",
          "text": [
            "smoker\n",
            "No     41\n",
            "Yes    24\n",
            "dtype: int64 \n",
            "\n",
            "ถ้าไม่ใช้ groupby ทำได้อีกหลายวิธี อาทิ\n",
            "จำนวนค่า tip ที่หายไปเมื่อ smoker = Yes คือ  24\n",
            "จำนวนค่า tip ที่หายไปเมื่อ smoker = No คือ  41\n"
          ],
          "name": "stdout"
        }
      ]
    },
    {
      "cell_type": "code",
      "metadata": {
        "colab": {
          "base_uri": "https://localhost:8080/",
          "height": 407
        },
        "id": "0AHwIZEPzz4g",
        "outputId": "8ad81205-a70f-4169-89a1-ae3cd3c1ce0f"
      },
      "source": [
        "# เติมข้อมูลที่หาย ด้วยค่ามัธยฐานจำแนกตามกลุ่ม\n",
        "\n",
        "import pandas as pd\n",
        "import numpy as np\n",
        "\n",
        "restaurant_data = pd.read_csv(\"restaurant_data_missing_bills.csv\")\n",
        "del restaurant_data[\"Unnamed: 0\"]\n",
        "\n",
        "display(restaurant_data.head())\n",
        "print(\"\\n\")\n",
        "\n",
        "# Define the lambda function\n",
        "missing_trans = lambda x: x.fillna(x.median())\n",
        "\n",
        "# Group the data according to time\n",
        "restaurant_grouped = restaurant_data.groupby(\"time\")\n",
        "\n",
        "# Apply the transformation\n",
        "restaurant_impute = restaurant_grouped.transform(missing_trans)\n",
        "display(restaurant_impute.head())\n"
      ],
      "execution_count": 51,
      "outputs": [
        {
          "output_type": "display_data",
          "data": {
            "text/html": [
              "<div>\n",
              "<style scoped>\n",
              "    .dataframe tbody tr th:only-of-type {\n",
              "        vertical-align: middle;\n",
              "    }\n",
              "\n",
              "    .dataframe tbody tr th {\n",
              "        vertical-align: top;\n",
              "    }\n",
              "\n",
              "    .dataframe thead th {\n",
              "        text-align: right;\n",
              "    }\n",
              "</style>\n",
              "<table border=\"1\" class=\"dataframe\">\n",
              "  <thead>\n",
              "    <tr style=\"text-align: right;\">\n",
              "      <th></th>\n",
              "      <th>total_bill</th>\n",
              "      <th>tip</th>\n",
              "      <th>sex</th>\n",
              "      <th>smoker</th>\n",
              "      <th>day</th>\n",
              "      <th>time</th>\n",
              "      <th>size</th>\n",
              "    </tr>\n",
              "  </thead>\n",
              "  <tbody>\n",
              "    <tr>\n",
              "      <th>0</th>\n",
              "      <td>16.99</td>\n",
              "      <td>1.01</td>\n",
              "      <td>Female</td>\n",
              "      <td>No</td>\n",
              "      <td>Sun</td>\n",
              "      <td>Dinner</td>\n",
              "      <td>2</td>\n",
              "    </tr>\n",
              "    <tr>\n",
              "      <th>1</th>\n",
              "      <td>10.34</td>\n",
              "      <td>1.66</td>\n",
              "      <td>Male</td>\n",
              "      <td>No</td>\n",
              "      <td>Sun</td>\n",
              "      <td>Dinner</td>\n",
              "      <td>3</td>\n",
              "    </tr>\n",
              "    <tr>\n",
              "      <th>2</th>\n",
              "      <td>NaN</td>\n",
              "      <td>3.50</td>\n",
              "      <td>Male</td>\n",
              "      <td>No</td>\n",
              "      <td>Sun</td>\n",
              "      <td>Dinner</td>\n",
              "      <td>3</td>\n",
              "    </tr>\n",
              "    <tr>\n",
              "      <th>3</th>\n",
              "      <td>23.68</td>\n",
              "      <td>3.31</td>\n",
              "      <td>Male</td>\n",
              "      <td>No</td>\n",
              "      <td>Sun</td>\n",
              "      <td>Dinner</td>\n",
              "      <td>2</td>\n",
              "    </tr>\n",
              "    <tr>\n",
              "      <th>4</th>\n",
              "      <td>24.59</td>\n",
              "      <td>3.61</td>\n",
              "      <td>Female</td>\n",
              "      <td>No</td>\n",
              "      <td>Sun</td>\n",
              "      <td>Dinner</td>\n",
              "      <td>4</td>\n",
              "    </tr>\n",
              "  </tbody>\n",
              "</table>\n",
              "</div>"
            ],
            "text/plain": [
              "   total_bill   tip     sex smoker  day    time  size\n",
              "0       16.99  1.01  Female     No  Sun  Dinner     2\n",
              "1       10.34  1.66    Male     No  Sun  Dinner     3\n",
              "2         NaN  3.50    Male     No  Sun  Dinner     3\n",
              "3       23.68  3.31    Male     No  Sun  Dinner     2\n",
              "4       24.59  3.61  Female     No  Sun  Dinner     4"
            ]
          },
          "metadata": {
            "tags": []
          }
        },
        {
          "output_type": "stream",
          "text": [
            "\n",
            "\n"
          ],
          "name": "stdout"
        },
        {
          "output_type": "display_data",
          "data": {
            "text/html": [
              "<div>\n",
              "<style scoped>\n",
              "    .dataframe tbody tr th:only-of-type {\n",
              "        vertical-align: middle;\n",
              "    }\n",
              "\n",
              "    .dataframe tbody tr th {\n",
              "        vertical-align: top;\n",
              "    }\n",
              "\n",
              "    .dataframe thead th {\n",
              "        text-align: right;\n",
              "    }\n",
              "</style>\n",
              "<table border=\"1\" class=\"dataframe\">\n",
              "  <thead>\n",
              "    <tr style=\"text-align: right;\">\n",
              "      <th></th>\n",
              "      <th>total_bill</th>\n",
              "      <th>tip</th>\n",
              "      <th>size</th>\n",
              "    </tr>\n",
              "  </thead>\n",
              "  <tbody>\n",
              "    <tr>\n",
              "      <th>0</th>\n",
              "      <td>16.99</td>\n",
              "      <td>1.01</td>\n",
              "      <td>2</td>\n",
              "    </tr>\n",
              "    <tr>\n",
              "      <th>1</th>\n",
              "      <td>10.34</td>\n",
              "      <td>1.66</td>\n",
              "      <td>3</td>\n",
              "    </tr>\n",
              "    <tr>\n",
              "      <th>2</th>\n",
              "      <td>18.69</td>\n",
              "      <td>3.50</td>\n",
              "      <td>3</td>\n",
              "    </tr>\n",
              "    <tr>\n",
              "      <th>3</th>\n",
              "      <td>23.68</td>\n",
              "      <td>3.31</td>\n",
              "      <td>2</td>\n",
              "    </tr>\n",
              "    <tr>\n",
              "      <th>4</th>\n",
              "      <td>24.59</td>\n",
              "      <td>3.61</td>\n",
              "      <td>4</td>\n",
              "    </tr>\n",
              "  </tbody>\n",
              "</table>\n",
              "</div>"
            ],
            "text/plain": [
              "   total_bill   tip  size\n",
              "0       16.99  1.01     2\n",
              "1       10.34  1.66     3\n",
              "2       18.69  3.50     3\n",
              "3       23.68  3.31     2\n",
              "4       24.59  3.61     4"
            ]
          },
          "metadata": {
            "tags": []
          }
        }
      ]
    },
    {
      "cell_type": "code",
      "metadata": {
        "colab": {
          "base_uri": "https://localhost:8080/"
        },
        "id": "FMIw-cCcOwMF",
        "outputId": "4b32e82c-5995-4fc8-fb61-6d435763266b"
      },
      "source": [
        "# Filter by group\n",
        "\n",
        "import pandas as pd\n",
        "import numpy as np\n",
        "restaurant_data = pd.read_csv(\"restaurant_data.csv\")\n",
        "# Filter the days where the count of total_bill is greater than $40\n",
        "total_bill_40 = restaurant_data.groupby('day').filter(lambda x: x['total_bill'].count() > 40)\n",
        "\n",
        "# Select only the entries that have a mean total_bill greater than $20\n",
        "total_bill_20 = total_bill_40.groupby('day').filter(lambda x : x['total_bill'].mean() > 20)\n",
        "\n",
        "# Print days of the week that have a mean total_bill greater than $20\n",
        "print('Days of the week that have a mean total_bill greater than $20:', total_bill_20.day.unique())\n",
        "\n",
        "# How many entries (rows) does the last DataFrame you created (total_bill_20) have?\n",
        "print(\"How many entries (rows) does the last DataFrame you created (total_bill_20) have?\")\n",
        "print(len(total_bill_20))\n"
      ],
      "execution_count": 57,
      "outputs": [
        {
          "output_type": "stream",
          "text": [
            "Days of the week that have a mean total_bill greater than $20: ['Sun' 'Sat']\n",
            "How many entries (rows) does the last DataFrame you created (total_bill_20) have?\n",
            "163\n"
          ],
          "name": "stdout"
        }
      ]
    },
    {
      "cell_type": "code",
      "metadata": {
        "colab": {
          "base_uri": "https://localhost:8080/",
          "height": 690
        },
        "id": "b9SwmTpcRXFq",
        "outputId": "8fa6850f-52e4-4a09-f5d3-d8e3f0cffaf8"
      },
      "source": [
        ""
      ],
      "execution_count": null,
      "outputs": [
        {
          "output_type": "stream",
          "text": [
            "/usr/local/lib/python3.7/dist-packages/ipykernel_launcher.py:6: SettingWithCopyWarning: \n",
            "A value is trying to be set on a copy of a slice from a DataFrame.\n",
            "Try using .loc[row_indexer,col_indexer] = value instead\n",
            "\n",
            "See the caveats in the documentation: https://pandas.pydata.org/pandas-docs/stable/user_guide/indexing.html#returning-a-view-versus-a-copy\n",
            "  \n",
            "/usr/local/lib/python3.7/dist-packages/pandas/core/frame.py:3063: SettingWithCopyWarning: \n",
            "A value is trying to be set on a copy of a slice from a DataFrame\n",
            "\n",
            "See the caveats in the documentation: https://pandas.pydata.org/pandas-docs/stable/user_guide/indexing.html#returning-a-view-versus-a-copy\n",
            "  self.iloc._setitem_with_indexer(indexer, value)\n",
            "/usr/local/lib/python3.7/dist-packages/pandas/core/frame.py:3041: SettingWithCopyWarning: \n",
            "A value is trying to be set on a copy of a slice from a DataFrame\n",
            "\n",
            "See the caveats in the documentation: https://pandas.pydata.org/pandas-docs/stable/user_guide/indexing.html#returning-a-view-versus-a-copy\n",
            "  self._setitem_array(key, value)\n"
          ],
          "name": "stderr"
        },
        {
          "output_type": "execute_result",
          "data": {
            "text/html": [
              "<div>\n",
              "<style scoped>\n",
              "    .dataframe tbody tr th:only-of-type {\n",
              "        vertical-align: middle;\n",
              "    }\n",
              "\n",
              "    .dataframe tbody tr th {\n",
              "        vertical-align: top;\n",
              "    }\n",
              "\n",
              "    .dataframe thead th {\n",
              "        text-align: right;\n",
              "    }\n",
              "</style>\n",
              "<table border=\"1\" class=\"dataframe\">\n",
              "  <thead>\n",
              "    <tr style=\"text-align: right;\">\n",
              "      <th></th>\n",
              "      <th>total_bill</th>\n",
              "      <th>tip</th>\n",
              "      <th>sex</th>\n",
              "      <th>smoker</th>\n",
              "      <th>day</th>\n",
              "      <th>time</th>\n",
              "      <th>size</th>\n",
              "    </tr>\n",
              "  </thead>\n",
              "  <tbody>\n",
              "    <tr>\n",
              "      <th>0</th>\n",
              "      <td>16.99</td>\n",
              "      <td>1.01</td>\n",
              "      <td>Female</td>\n",
              "      <td>No</td>\n",
              "      <td>Sun</td>\n",
              "      <td>Dinner</td>\n",
              "      <td>2</td>\n",
              "    </tr>\n",
              "    <tr>\n",
              "      <th>1</th>\n",
              "      <td>10.34</td>\n",
              "      <td>1.66</td>\n",
              "      <td>Male</td>\n",
              "      <td>No</td>\n",
              "      <td>Sun</td>\n",
              "      <td>Dinner</td>\n",
              "      <td>3</td>\n",
              "    </tr>\n",
              "    <tr>\n",
              "      <th>2</th>\n",
              "      <td>NaN</td>\n",
              "      <td>3.50</td>\n",
              "      <td>Male</td>\n",
              "      <td>No</td>\n",
              "      <td>Sun</td>\n",
              "      <td>Dinner</td>\n",
              "      <td>3</td>\n",
              "    </tr>\n",
              "    <tr>\n",
              "      <th>3</th>\n",
              "      <td>23.68</td>\n",
              "      <td>3.31</td>\n",
              "      <td>Male</td>\n",
              "      <td>No</td>\n",
              "      <td>Sun</td>\n",
              "      <td>Dinner</td>\n",
              "      <td>2</td>\n",
              "    </tr>\n",
              "    <tr>\n",
              "      <th>4</th>\n",
              "      <td>24.59</td>\n",
              "      <td>3.61</td>\n",
              "      <td>Female</td>\n",
              "      <td>No</td>\n",
              "      <td>Sun</td>\n",
              "      <td>Dinner</td>\n",
              "      <td>4</td>\n",
              "    </tr>\n",
              "    <tr>\n",
              "      <th>...</th>\n",
              "      <td>...</td>\n",
              "      <td>...</td>\n",
              "      <td>...</td>\n",
              "      <td>...</td>\n",
              "      <td>...</td>\n",
              "      <td>...</td>\n",
              "      <td>...</td>\n",
              "    </tr>\n",
              "    <tr>\n",
              "      <th>239</th>\n",
              "      <td>29.03</td>\n",
              "      <td>5.92</td>\n",
              "      <td>Male</td>\n",
              "      <td>No</td>\n",
              "      <td>Sat</td>\n",
              "      <td>Dinner</td>\n",
              "      <td>3</td>\n",
              "    </tr>\n",
              "    <tr>\n",
              "      <th>240</th>\n",
              "      <td>27.18</td>\n",
              "      <td>2.00</td>\n",
              "      <td>Female</td>\n",
              "      <td>Yes</td>\n",
              "      <td>Sat</td>\n",
              "      <td>Dinner</td>\n",
              "      <td>2</td>\n",
              "    </tr>\n",
              "    <tr>\n",
              "      <th>241</th>\n",
              "      <td>22.67</td>\n",
              "      <td>2.00</td>\n",
              "      <td>Male</td>\n",
              "      <td>Yes</td>\n",
              "      <td>Sat</td>\n",
              "      <td>Dinner</td>\n",
              "      <td>2</td>\n",
              "    </tr>\n",
              "    <tr>\n",
              "      <th>242</th>\n",
              "      <td>17.82</td>\n",
              "      <td>1.75</td>\n",
              "      <td>Male</td>\n",
              "      <td>No</td>\n",
              "      <td>Sat</td>\n",
              "      <td>Dinner</td>\n",
              "      <td>2</td>\n",
              "    </tr>\n",
              "    <tr>\n",
              "      <th>243</th>\n",
              "      <td>18.78</td>\n",
              "      <td>3.00</td>\n",
              "      <td>Female</td>\n",
              "      <td>No</td>\n",
              "      <td>Thur</td>\n",
              "      <td>Dinner</td>\n",
              "      <td>2</td>\n",
              "    </tr>\n",
              "  </tbody>\n",
              "</table>\n",
              "<p>244 rows × 7 columns</p>\n",
              "</div>"
            ],
            "text/plain": [
              "     total_bill   tip     sex smoker   day    time  size\n",
              "0         16.99  1.01  Female     No   Sun  Dinner     2\n",
              "1         10.34  1.66    Male     No   Sun  Dinner     3\n",
              "2           NaN  3.50    Male     No   Sun  Dinner     3\n",
              "3         23.68  3.31    Male     No   Sun  Dinner     2\n",
              "4         24.59  3.61  Female     No   Sun  Dinner     4\n",
              "..          ...   ...     ...    ...   ...     ...   ...\n",
              "239       29.03  5.92    Male     No   Sat  Dinner     3\n",
              "240       27.18  2.00  Female    Yes   Sat  Dinner     2\n",
              "241       22.67  2.00    Male    Yes   Sat  Dinner     2\n",
              "242       17.82  1.75    Male     No   Sat  Dinner     2\n",
              "243       18.78  3.00  Female     No  Thur  Dinner     2\n",
              "\n",
              "[244 rows x 7 columns]"
            ]
          },
          "metadata": {
            "tags": []
          },
          "execution_count": 38
        }
      ]
    },
    {
      "cell_type": "code",
      "metadata": {
        "colab": {
          "base_uri": "https://localhost:8080/"
        },
        "id": "dj1QHwR9T5F-",
        "outputId": "c456bc81-0bd8-42ea-c6fb-aef997123ae6"
      },
      "source": [
        "%whos"
      ],
      "execution_count": null,
      "outputs": [
        {
          "output_type": "stream",
          "text": [
            "Interactive namespace is empty.\n"
          ],
          "name": "stdout"
        }
      ]
    },
    {
      "cell_type": "code",
      "metadata": {
        "id": "mTh1cXAJUgNe"
      },
      "source": [
        ""
      ],
      "execution_count": null,
      "outputs": []
    }
  ]
}